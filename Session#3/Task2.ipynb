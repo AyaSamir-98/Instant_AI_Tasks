{
 "cells": [
  {
   "cell_type": "code",
   "execution_count": 2,
   "id": "c99c5cb2",
   "metadata": {},
   "outputs": [],
   "source": [
    "import heapq\n"
   ]
  },
  {
   "cell_type": "code",
   "execution_count": 3,
   "id": "e7b155b0",
   "metadata": {},
   "outputs": [],
   "source": [
    "class PirorityQueue:\n",
    "\n",
    "#the following class use datastructure list called queue to implement the priority queue and an index to maintain the insertion order of elements with equal priority\n",
    "    def __init__(self):\n",
    "        self.queue=[]\n",
    "        self.index=0\n",
    "    \n",
    "    def push (self, item, priority):\n",
    "          # push method adds elements to the priority queue. It takes two parameters: item, and priority. \n",
    "          # #The elements are stored in the queue list as tuples (each element in the list is a tuple consist of item, priorty, and index ) (priority, index, item), and heapq.heappush is used to maintain the heap property while adding elements\n",
    "            heapq.heappush(self.queue, (priority, self.index,item))\n",
    "            self.index +=1\n",
    "    \n",
    "    \n",
    "    #pop method removes and returns the element with the highest priority from the priority queue.\n",
    "    #eapq.heappop is used to efficiently remove the smaujmi9llest element (highest priority) from the heap.      \n",
    "    def pop(self):\n",
    "        return heapq.heappop(self.queue)[-1]\n",
    "    \n",
    "    \n",
    "   \n",
    "   #is_empty method checks whether the priority queue is empty and returns True if it is, and False otherwise.\n",
    "    def is_empty(self):\n",
    "        return len(self.queue)==0\n",
    "  "
   ]
  },
  {
   "cell_type": "code",
   "execution_count": 4,
   "id": "b581ac54",
   "metadata": {},
   "outputs": [
    {
     "name": "stdout",
     "output_type": "stream",
     "text": [
      "Processing: Task 2\n",
      "Processing: Task 4\n",
      "Processing: Task 1\n",
      "Processing: Task 3\n"
     ]
    }
   ],
   "source": [
    " \n",
    "if __name__ == \"__main__\":\n",
    "    priority_queue=PirorityQueue()\n",
    "    priority_queue.push(\"Task 1\",5)\n",
    "    priority_queue.push(\"Task 2\", 2)\n",
    "    priority_queue.push(\"Task 3\", 8)\n",
    "    priority_queue.push(\"Task 4\", 3)\n",
    "    \n",
    "    while not priority_queue.is_empty():\n",
    "        task = priority_queue.pop()\n",
    "        print(\"Processing:\", task)"
   ]
  },
  {
   "cell_type": "code",
   "execution_count": null,
   "id": "2670175a",
   "metadata": {},
   "outputs": [],
   "source": []
  },
  {
   "cell_type": "code",
   "execution_count": null,
   "id": "459338ea",
   "metadata": {},
   "outputs": [],
   "source": []
  },
  {
   "cell_type": "code",
   "execution_count": null,
   "id": "c9913903",
   "metadata": {},
   "outputs": [],
   "source": []
  },
  {
   "cell_type": "code",
   "execution_count": null,
   "id": "2368bb0b",
   "metadata": {},
   "outputs": [],
   "source": []
  }
 ],
 "metadata": {
  "kernelspec": {
   "display_name": "Python 3 (ipykernel)",
   "language": "python",
   "name": "python3"
  },
  "language_info": {
   "codemirror_mode": {
    "name": "ipython",
    "version": 3
   },
   "file_extension": ".py",
   "mimetype": "text/x-python",
   "name": "python",
   "nbconvert_exporter": "python",
   "pygments_lexer": "ipython3",
   "version": "3.10.4"
  }
 },
 "nbformat": 4,
 "nbformat_minor": 5
}
