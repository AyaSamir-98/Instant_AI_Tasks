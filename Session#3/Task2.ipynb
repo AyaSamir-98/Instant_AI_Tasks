{
 "cells": [
  {
   "cell_type": "markdown",
   "id": "05518754",
   "metadata": {},
   "source": [
    "# Task2 Question: How to define and customize priority queue and implement an example?\n",
    "\n",
    "Summary of two ways to implement a customized priority queue in Python:\n",
    "\n",
    "    Using the queue module:\n",
    "        Import the queue module: import queue.\n",
    "        Create a PriorityQueue object: priority_queue = queue.PriorityQueue().\n",
    "        Add elements to the priority queue with a custom priority using the put method: priority_queue.put((priority, element)).\n",
    "        Remove elements from the priority queue using the get method: priority, element = priority_queue.get().\n",
    "\n",
    "    Using the heapq module:\n",
    "        Import the heapq module: import heapq.\n",
    "        Initialize an empty list to serve as the heap: heap = [].\n",
    "        Add elements to the priority queue using heapq.heappush: heapq.heappush(heap, (priority, element)).\n",
    "        Remove elements with the highest priority using heapq.heappop: priority, element = heapq.heappop(heap).\n",
    "\n",
    "Other possible ways to implement a customized priority queue in Python include using a dictionary and maintaining the elements in sorted order based on their priorities. This approach allows for direct access to elements using their priorities as keys, making it efficient for certain use cases. However, it may require additional logic to maintain the order of elements when adding or removing elements from the queue.\n",
    "\n"
   ]
  },
  {
   "cell_type": "markdown",
   "id": "d157af72",
   "metadata": {},
   "source": [
    "# First by using Heapq\n",
    "\n"
   ]
  },
  {
   "cell_type": "code",
   "execution_count": 5,
   "id": "cf7baa11",
   "metadata": {},
   "outputs": [
    {
     "name": "stdout",
     "output_type": "stream",
     "text": [
      "Processing: Task 2\n",
      "Processing: Task 4\n",
      "Processing: Task 1\n",
      "Processing: Task 3\n"
     ]
    }
   ],
   "source": [
    "import heapq\n",
    "\n",
    "\n",
    "class PirorityQueue:\n",
    "\n",
    "#the following class use datastructure list called queue to implement the priority queue and an index to maintain the insertion order of elements with equal priority\n",
    "    def __init__(self):\n",
    "        self.queue=[]\n",
    "        self.index=0\n",
    "    \n",
    "    def push (self, item, priority):\n",
    "          # push method adds elements to the priority queue. It takes two parameters: item, and priority. \n",
    "          # #The elements are stored in the queue list as tuples (each element in the list is a tuple consist of item, priorty, and index ) (priority, index, item), and heapq.heappush is used to maintain the heap property while adding elements\n",
    "            heapq.heappush(self.queue, (priority, self.index,item))\n",
    "            self.index +=1\n",
    "    \n",
    "    \n",
    "    #pop method removes and returns the element with the highest priority from the priority queue.\n",
    "    #eapq.heappop is used to efficiently remove the smaujmi9llest element (highest priority) from the heap.      \n",
    "    def pop(self):\n",
    "        return heapq.heappop(self.queue)[-1]\n",
    "    \n",
    "    \n",
    "   \n",
    "   #is_empty method checks whether the priority queue is empty and returns True if it is, and False otherwise.\n",
    "    def is_empty(self):\n",
    "        return len(self.queue)==0\n",
    "  \n",
    "\n",
    " \n",
    "if __name__ == \"__main__\":\n",
    "    priority_queue=PirorityQueue()\n",
    "    priority_queue.push(\"Task 1\",5)\n",
    "    priority_queue.push(\"Task 2\", 2)\n",
    "    priority_queue.push(\"Task 3\", 8)\n",
    "    priority_queue.push(\"Task 4\", 3)\n",
    "    \n",
    "    while not priority_queue.is_empty():\n",
    "        task = priority_queue.pop()\n",
    "        print(\"Processing:\", task)\n",
    "\n",
    "\n"
   ]
  },
  {
   "cell_type": "markdown",
   "id": "67175ce7",
   "metadata": {},
   "source": [
    "# Second by using queue module\n"
   ]
  },
  {
   "cell_type": "markdown",
   "id": "6cdd33f0",
   "metadata": {},
   "source": [
    "the queue.PriorityQueue class provides an implementation of a priority queue, where elements can be inserted with associated priority values, and the elements with the highest priority are dequeued first. By default, queue.PriorityQueue creates a min priority queue, where elements with lower priority values are dequeued first. However, we can customize the priority ordering to create a max priority queue, where elements with higher priority values are dequeued first.\n",
    "\n",
    "To achieve this, we need to define a custom comparator function that returns a value representing the priority of an element. By default, queue.PriorityQueue uses the elements themselves as the priority values, so we need to set a custom comparator function that calculates the actual priority based on the elements' values.\n",
    "\n",
    "In the example provided, the custom comparator function custom_priority_order takes an item as input and returns the negation of the first element of the item tuple. By negating the priority values, we effectively reverse the order of elements, causing the ones with higher priority values to appear first in the queue.\n",
    "\n"
   ]
  },
  {
   "cell_type": "code",
   "execution_count": 9,
   "id": "28b94602",
   "metadata": {},
   "outputs": [
    {
     "name": "stdout",
     "output_type": "stream",
     "text": [
      "Priority: 1, Task: Task 2\n",
      "Priority: 3, Task: Task 1\n",
      "Priority: 5, Task: Task 3\n"
     ]
    }
   ],
   "source": [
    "\n",
    "\n",
    "\n",
    "import queue\n",
    "\n",
    "# Define a custom comparator function for priority ordering\n",
    "# In this example, we prioritize based on the negation of the first element of the tuple (priority)\n",
    "def custom_priority_order(item):\n",
    "    return -item[0]\n",
    "\n",
    "# Create a priority queue and set the custom comparator\n",
    "priority_queue = queue.PriorityQueue()\n",
    "priority_queue._get_priority = custom_priority_order\n",
    "\n",
    "# Example data with priority\n",
    "data1 = (3, \"Task 1\")\n",
    "data2 = (1, \"Task 2\")\n",
    "data3 = (5, \"Task 3\")\n",
    "\n",
    "# Enqueue data with priority\n",
    "priority_queue.put(data1)\n",
    "priority_queue.put(data2)\n",
    "priority_queue.put(data3)\n",
    "\n",
    "# Dequeue elements based on priority (max priority first)\n",
    "while not priority_queue.empty():\n",
    "    priority, task = priority_queue.get()\n",
    "    print(f\"Priority: {priority}, Task: {task}\")\n",
    "\n"
   ]
  },
  {
   "cell_type": "markdown",
   "id": "9cfebe41",
   "metadata": {},
   "source": [
    "In this example, we create a queue.PriorityQueue instance called priority_queue. We then set \n",
    "the _get_priority attribute of this instance to our custom comparator function custom_priority_order. \n",
    "As a result, the priority queue will use the negation of the priority values (in this case, the first element of the tuple)\n",
    ", effectively behaving like a max priority queue. The elements with the highest priority (highest value in this case) \n",
    "will be dequeued first."
   ]
  }
 ],
 "metadata": {
  "kernelspec": {
   "display_name": "Python 3 (ipykernel)",
   "language": "python",
   "name": "python3"
  },
  "language_info": {
   "codemirror_mode": {
    "name": "ipython",
    "version": 3
   },
   "file_extension": ".py",
   "mimetype": "text/x-python",
   "name": "python",
   "nbconvert_exporter": "python",
   "pygments_lexer": "ipython3",
   "version": "3.10.4"
  }
 },
 "nbformat": 4,
 "nbformat_minor": 5
}
