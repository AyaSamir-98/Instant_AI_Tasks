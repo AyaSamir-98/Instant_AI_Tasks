{
 "cells": [
  {
   "cell_type": "markdown",
   "id": "6aa72dee",
   "metadata": {},
   "source": [
    "# Task3:\n",
    "# Q: How to implement queue of arrays as its elements and example?\n",
    "\n",
    "We can use the built-in queue.Queue class from the queue module. This class allows you to create a queue data structure that can hold arrays (lists) as its elements. Here's how you can do it:"
   ]
  },
  {
   "cell_type": "code",
   "execution_count": 1,
   "id": "838f2f57",
   "metadata": {},
   "outputs": [],
   "source": [
    "import queue"
   ]
  },
  {
   "cell_type": "code",
   "execution_count": 3,
   "id": "0d1abb1a",
   "metadata": {},
   "outputs": [
    {
     "name": "stdout",
     "output_type": "stream",
     "text": [
      "Dequeued array: [1, 2, 3]\n",
      "Dequeued array: [4, 5, 6]\n",
      "Dequeued array: [7, 8, 9]\n"
     ]
    }
   ],
   "source": [
    "import queue\n",
    "\n",
    "array_queue = queue.Queue()\n",
    "\n",
    "array1 = [1, 2, 3]\n",
    "array2 = [4, 5, 6]\n",
    "array3 = [7, 8, 9]\n",
    "\n",
    "array_queue.put(array1)\n",
    "array_queue.put(array2)\n",
    "array_queue.put(array3)\n",
    "\n",
    "while not array_queue.empty():\n",
    "    array = array_queue.get()\n",
    "    print(\"Dequeued array:\", array)\n"
   ]
  }
 ],
 "metadata": {
  "kernelspec": {
   "display_name": "Python 3 (ipykernel)",
   "language": "python",
   "name": "python3"
  },
  "language_info": {
   "codemirror_mode": {
    "name": "ipython",
    "version": 3
   },
   "file_extension": ".py",
   "mimetype": "text/x-python",
   "name": "python",
   "nbconvert_exporter": "python",
   "pygments_lexer": "ipython3",
   "version": "3.10.4"
  }
 },
 "nbformat": 4,
 "nbformat_minor": 5
}
