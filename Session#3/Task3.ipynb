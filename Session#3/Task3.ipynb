{
 "cells": [
  {
   "cell_type": "markdown",
   "id": "6aa72dee",
   "metadata": {},
   "source": [
    "# Task3:\n",
    "# Q: How to implement queue of arrays as its elements and example?\n",
    "\n",
    "We can use the built-in queue.Queue class from the queue module. This class allows you to create a queue data structure that can hold arrays (lists) as its elements. Here's how you can do it:"
   ]
  },
  {
   "cell_type": "code",
   "execution_count": 1,
   "id": "838f2f57",
   "metadata": {},
   "outputs": [],
   "source": [
    "import queue"
   ]
  },
  {
   "cell_type": "code",
   "execution_count": 3,
   "id": "0d1abb1a",
   "metadata": {},
   "outputs": [
    {
     "ename": "NameError",
     "evalue": "name 'array' is not defined",
     "output_type": "error",
     "traceback": [
      "\u001b[1;31m---------------------------------------------------------------------------\u001b[0m",
      "\u001b[1;31mNameError\u001b[0m                                 Traceback (most recent call last)",
      "Cell \u001b[1;32mIn [3], line 13\u001b[0m\n\u001b[0;32m     11\u001b[0m \u001b[38;5;28;01mwhile\u001b[39;00m \u001b[38;5;129;01mnot\u001b[39;00m array_queue\u001b[38;5;241m.\u001b[39mempty():\n\u001b[0;32m     12\u001b[0m     array_queue\u001b[38;5;241m.\u001b[39mget()\n\u001b[1;32m---> 13\u001b[0m     \u001b[38;5;28mprint\u001b[39m(\u001b[38;5;124m\"\u001b[39m\u001b[38;5;124mDequeued array:\u001b[39m\u001b[38;5;124m\"\u001b[39m, \u001b[43marray\u001b[49m)\n",
      "\u001b[1;31mNameError\u001b[0m: name 'array' is not defined"
     ]
    }
   ],
   "source": [
    "array_queue=queue.Queue()\n",
    "array1=[1,2,3]\n",
    "array2=[4,5,6]\n",
    "array3=[7,8,9]\n",
    "\n",
    "\n",
    "array_queue.put(array1)\n",
    "array_queue.put(array2)\n",
    "array_queue.put(array3)\n",
    "\n",
    "while not array_queue.empty():\n",
    "    array_queue.get()\n",
    "    print(\"Dequeued array:\", array)"
   ]
  }
 ],
 "metadata": {
  "kernelspec": {
   "display_name": "Python 3 (ipykernel)",
   "language": "python",
   "name": "python3"
  },
  "language_info": {
   "codemirror_mode": {
    "name": "ipython",
    "version": 3
   },
   "file_extension": ".py",
   "mimetype": "text/x-python",
   "name": "python",
   "nbconvert_exporter": "python",
   "pygments_lexer": "ipython3",
   "version": "3.10.4"
  }
 },
 "nbformat": 4,
 "nbformat_minor": 5
}
